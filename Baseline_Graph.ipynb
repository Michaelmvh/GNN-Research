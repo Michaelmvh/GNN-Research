{
  "nbformat": 4,
  "nbformat_minor": 0,
  "metadata": {
    "colab": {
      "provenance": [],
      "toc_visible": true,
      "mount_file_id": "1QmVg9ANbUwpZ1uf8_1zWpSKBIevzwXxk",
      "authorship_tag": "ABX9TyMG0GO6zHkGlROBoF6TbccJ",
      "include_colab_link": true
    },
    "kernelspec": {
      "name": "python3",
      "display_name": "Python 3"
    },
    "language_info": {
      "name": "python"
    }
  },
  "cells": [
    {
      "cell_type": "markdown",
      "metadata": {
        "id": "view-in-github",
        "colab_type": "text"
      },
      "source": [
        "<a href=\"https://colab.research.google.com/github/Michaelmvh/bozdag-research-GNN/blob/main/Baseline_Graph.ipynb\" target=\"_parent\"><img src=\"https://colab.research.google.com/assets/colab-badge.svg\" alt=\"Open In Colab\"/></a>"
      ]
    },
    {
      "cell_type": "markdown",
      "source": [
        "# Imports"
      ],
      "metadata": {
        "id": "m-Gjz-IVobyy"
      }
    },
    {
      "cell_type": "code",
      "source": [
        "# pip installs\n",
        "!pip install torch-geometric"
      ],
      "metadata": {
        "colab": {
          "base_uri": "https://localhost:8080/"
        },
        "id": "h20c9kHqy8o_",
        "outputId": "fbd565a0-f4fd-41cc-d282-bf63d49665b2"
      },
      "execution_count": 1,
      "outputs": [
        {
          "output_type": "stream",
          "name": "stdout",
          "text": [
            "Requirement already satisfied: torch-geometric in /usr/local/lib/python3.11/dist-packages (2.6.1)\n",
            "Requirement already satisfied: aiohttp in /usr/local/lib/python3.11/dist-packages (from torch-geometric) (3.11.15)\n",
            "Requirement already satisfied: fsspec in /usr/local/lib/python3.11/dist-packages (from torch-geometric) (2025.3.2)\n",
            "Requirement already satisfied: jinja2 in /usr/local/lib/python3.11/dist-packages (from torch-geometric) (3.1.6)\n",
            "Requirement already satisfied: numpy in /usr/local/lib/python3.11/dist-packages (from torch-geometric) (2.0.2)\n",
            "Requirement already satisfied: psutil>=5.8.0 in /usr/local/lib/python3.11/dist-packages (from torch-geometric) (5.9.5)\n",
            "Requirement already satisfied: pyparsing in /usr/local/lib/python3.11/dist-packages (from torch-geometric) (3.2.3)\n",
            "Requirement already satisfied: requests in /usr/local/lib/python3.11/dist-packages (from torch-geometric) (2.32.3)\n",
            "Requirement already satisfied: tqdm in /usr/local/lib/python3.11/dist-packages (from torch-geometric) (4.67.1)\n",
            "Requirement already satisfied: aiohappyeyeballs>=2.3.0 in /usr/local/lib/python3.11/dist-packages (from aiohttp->torch-geometric) (2.6.1)\n",
            "Requirement already satisfied: aiosignal>=1.1.2 in /usr/local/lib/python3.11/dist-packages (from aiohttp->torch-geometric) (1.3.2)\n",
            "Requirement already satisfied: attrs>=17.3.0 in /usr/local/lib/python3.11/dist-packages (from aiohttp->torch-geometric) (25.3.0)\n",
            "Requirement already satisfied: frozenlist>=1.1.1 in /usr/local/lib/python3.11/dist-packages (from aiohttp->torch-geometric) (1.5.0)\n",
            "Requirement already satisfied: multidict<7.0,>=4.5 in /usr/local/lib/python3.11/dist-packages (from aiohttp->torch-geometric) (6.3.1)\n",
            "Requirement already satisfied: propcache>=0.2.0 in /usr/local/lib/python3.11/dist-packages (from aiohttp->torch-geometric) (0.3.1)\n",
            "Requirement already satisfied: yarl<2.0,>=1.17.0 in /usr/local/lib/python3.11/dist-packages (from aiohttp->torch-geometric) (1.18.3)\n",
            "Requirement already satisfied: MarkupSafe>=2.0 in /usr/local/lib/python3.11/dist-packages (from jinja2->torch-geometric) (3.0.2)\n",
            "Requirement already satisfied: charset-normalizer<4,>=2 in /usr/local/lib/python3.11/dist-packages (from requests->torch-geometric) (3.4.1)\n",
            "Requirement already satisfied: idna<4,>=2.5 in /usr/local/lib/python3.11/dist-packages (from requests->torch-geometric) (3.10)\n",
            "Requirement already satisfied: urllib3<3,>=1.21.1 in /usr/local/lib/python3.11/dist-packages (from requests->torch-geometric) (2.3.0)\n",
            "Requirement already satisfied: certifi>=2017.4.17 in /usr/local/lib/python3.11/dist-packages (from requests->torch-geometric) (2025.1.31)\n"
          ]
        }
      ]
    },
    {
      "cell_type": "code",
      "execution_count": 2,
      "metadata": {
        "id": "saBRYyzloDhs"
      },
      "outputs": [],
      "source": [
        "import pandas as pd\n",
        "import networkx as nx\n",
        "import torch\n",
        "import torch.nn.functional as F\n",
        "from torch_geometric.nn import GCNConv\n",
        "from torch_geometric.nn.models import GCN\n",
        "from torch_geometric.transforms import RandomLinkSplit\n",
        "from torch_geometric.utils import from_networkx\n",
        "from sklearn.metrics import roc_auc_score"
      ]
    },
    {
      "cell_type": "markdown",
      "source": [
        "# Setup"
      ],
      "metadata": {
        "id": "w2WkIl8dsnGk"
      }
    },
    {
      "cell_type": "markdown",
      "source": [
        "## Constants"
      ],
      "metadata": {
        "id": "bhZ5uv2ZpwSO"
      }
    },
    {
      "cell_type": "code",
      "source": [
        "graph_location = \"/content/drive/MyDrive/Colab Notebooks/Bozdag Research/Data/ChChSe-Decagon_polypharmacy.csv\""
      ],
      "metadata": {
        "id": "wVG4Ms5aqGI9"
      },
      "execution_count": 3,
      "outputs": []
    },
    {
      "cell_type": "markdown",
      "source": [],
      "metadata": {
        "id": "ofonEHDVso6D"
      }
    },
    {
      "cell_type": "code",
      "source": [
        "device = torch.device('cuda' if torch.cuda.is_available() else 'cpu')\n",
        "# device = \"cpu\"\n",
        "print(device)"
      ],
      "metadata": {
        "colab": {
          "base_uri": "https://localhost:8080/"
        },
        "id": "ThSF9tbpspFC",
        "outputId": "e758b258-1c20-481a-cd51-041634c22295"
      },
      "execution_count": 4,
      "outputs": [
        {
          "output_type": "stream",
          "name": "stdout",
          "text": [
            "cpu\n"
          ]
        }
      ]
    },
    {
      "cell_type": "markdown",
      "source": [
        "# Load Dataset"
      ],
      "metadata": {
        "id": "AWhpeBQxoe2V"
      }
    },
    {
      "cell_type": "code",
      "source": [
        "def load_graph_from_edge_list(\n",
        "    file_path:str,\n",
        "    source_col_name:str,\n",
        "    target_col_name:str,\n",
        "    ignore_edge_type: bool = True):\n",
        "  df = pd.read_csv(file_path)\n",
        "  return nx.from_pandas_edgelist(df=df, source=source_col_name, target=target_col_name, edge_attr= None if ignore_edge_type else True)\n",
        "\n",
        "nx_data = load_graph_from_edge_list(graph_location, '# STITCH 1', 'STITCH 2')\n",
        "print(nx_data)"
      ],
      "metadata": {
        "colab": {
          "base_uri": "https://localhost:8080/"
        },
        "id": "iLnMqt4l10vT",
        "outputId": "509a215f-1a60-4844-b465-dfdb5a57b211"
      },
      "execution_count": 5,
      "outputs": [
        {
          "output_type": "stream",
          "name": "stdout",
          "text": [
            "Graph with 645 nodes and 63473 edges\n"
          ]
        }
      ]
    },
    {
      "cell_type": "code",
      "source": [
        "# This will print 2x as many edges as networkx representation because of how\n",
        "# (un)directed edges are handled\n",
        "data = from_networkx(nx_data)\n",
        "print(data)"
      ],
      "metadata": {
        "colab": {
          "base_uri": "https://localhost:8080/"
        },
        "id": "LozGMs2XBjxW",
        "outputId": "bb39de23-73f0-4651-a1ff-47bd61003779"
      },
      "execution_count": 6,
      "outputs": [
        {
          "output_type": "stream",
          "name": "stdout",
          "text": [
            "Data(edge_index=[2, 126946], num_nodes=645)\n"
          ]
        }
      ]
    },
    {
      "cell_type": "markdown",
      "source": [
        "## Dataset information"
      ],
      "metadata": {
        "id": "vP_miC2nohdF"
      }
    },
    {
      "cell_type": "code",
      "source": [
        "def print_graph_info(G: nx.Graph):\n",
        "  clustering_coeff = nx.average_clustering(G)\n",
        "\n",
        "  def avg_degree(G:nx.graph):\n",
        "    return nx.number_of_edges(G)/nx.number_of_nodes(G)*2\n",
        "\n",
        "  print(f\"Average Degree: {avg_degree(G)}\\nClustering Coefficient: {clustering_coeff}\")\n",
        "  # nx.draw(nx_data)\n",
        "  nx.draw(G)\n",
        "\n",
        "print_graph_info(nx_data)"
      ],
      "metadata": {
        "id": "Xl_QwQc4ohkZ",
        "colab": {
          "base_uri": "https://localhost:8080/",
          "height": 553
        },
        "outputId": "94de14db-f2c6-409f-d8c1-f81a9489d0e7"
      },
      "execution_count": 7,
      "outputs": [
        {
          "output_type": "stream",
          "name": "stdout",
          "text": [
            "Average Degree: 196.815503875969\n",
            "Clustering Coefficient: 0.8114454293226888\n"
          ]
        },
        {
          "output_type": "display_data",
          "data": {
            "text/plain": [
              "<Figure size 640x480 with 1 Axes>"
            ],
            "image/png": "[encoded data removed]"
          },
          "metadata": {}
        }
      ]
    },
    {
      "cell_type": "markdown",
      "source": [
        "## Define Node Features"
      ],
      "metadata": {
        "id": "7OWgktR5TCJu"
      }
    },
    {
      "cell_type": "markdown",
      "source": [
        "### One-hot encoding"
      ],
      "metadata": {
        "id": "Z8jQmL_esLfK"
      }
    },
    {
      "cell_type": "code",
      "source": [
        "num_nodes = nx_data.number_of_nodes()\n",
        "data.x = torch.eye(num_nodes)"
      ],
      "metadata": {
        "id": "ImBCz0eqTL_7"
      },
      "execution_count": 8,
      "outputs": []
    },
    {
      "cell_type": "code",
      "source": [
        "print(data)"
      ],
      "metadata": {
        "id": "zphFEv2fTlSh",
        "colab": {
          "base_uri": "https://localhost:8080/"
        },
        "outputId": "96a8ec0d-704a-4372-8be8-14a86bacb593"
      },
      "execution_count": 9,
      "outputs": [
        {
          "output_type": "stream",
          "name": "stdout",
          "text": [
            "Data(edge_index=[2, 126946], num_nodes=645, x=[645, 645])\n"
          ]
        }
      ]
    },
    {
      "cell_type": "markdown",
      "source": [
        "### Train/test/val split"
      ],
      "metadata": {
        "id": "RanKhULlTzgL"
      }
    },
    {
      "cell_type": "code",
      "source": [
        "# Traian, val, test split\n",
        "transform = RandomLinkSplit(\n",
        "    is_undirected=True,\n",
        "    add_negative_train_samples=True,\n",
        "    split_labels=True)\n",
        "train_data, val_data, test_data = transform(data)"
      ],
      "metadata": {
        "id": "GLQ222hvT2zH"
      },
      "execution_count": 10,
      "outputs": []
    },
    {
      "cell_type": "code",
      "source": [
        "print(\"Train: \",train_data)\n",
        "print(\"Val: \",val_data)\n",
        "print(\"Test: \",test_data)"
      ],
      "metadata": {
        "id": "aXt27g0kwXTw",
        "colab": {
          "base_uri": "https://localhost:8080/"
        },
        "outputId": "64bc7672-5197-4632-cd99-27a83351df0b"
      },
      "execution_count": 11,
      "outputs": [
        {
          "output_type": "stream",
          "name": "stdout",
          "text": [
            "Train:  Data(edge_index=[2, 88864], num_nodes=645, x=[645, 645], pos_edge_label=[44432], pos_edge_label_index=[2, 44432], neg_edge_label=[44432], neg_edge_label_index=[2, 44432])\n",
            "Val:  Data(edge_index=[2, 88864], num_nodes=645, x=[645, 645], pos_edge_label=[6347], pos_edge_label_index=[2, 6347], neg_edge_label=[6347], neg_edge_label_index=[2, 6347])\n",
            "Test:  Data(edge_index=[2, 101558], num_nodes=645, x=[645, 645], pos_edge_label=[12694], pos_edge_label_index=[2, 12694], neg_edge_label=[12694], neg_edge_label_index=[2, 12694])\n"
          ]
        }
      ]
    },
    {
      "cell_type": "markdown",
      "source": [
        "# Graph Neural Network"
      ],
      "metadata": {
        "id": "yblimajsuTrt"
      }
    },
    {
      "cell_type": "markdown",
      "source": [
        "## Define Model"
      ],
      "metadata": {
        "id": "PBE7GPGNLGLw"
      }
    },
    {
      "cell_type": "code",
      "source": [
        "class GCNEncoder(torch.nn.Module):\n",
        "    def __init__(self, input_dim, hidden_dim, out_dim):\n",
        "        super(GCN, self).__init__()\n",
        "        self.conv1 = GCNConv(input_dim, hidden_dim)\n",
        "        self.conv2 = GCNConv(hidden_dim, out_dim)\n",
        "\n",
        "    def forward(self, x, edge_index):\n",
        "        x = self.conv1(x, edge_index)\n",
        "        x = F.relu(x)\n",
        "        x = F.dropout(x, training=self.training)\n",
        "        x = self.conv2(x, edge_index)\n",
        "        return x  # Embeddings\n",
        "\n",
        "# Model parameters\n",
        "input_dim = train_data.x.size(1)\n",
        "hidden_dim = 128\n",
        "output_dim = 64  # Embedding size\n",
        "\n",
        "model = GCN(input_dim, hidden_dim, output_dim).to(device)\n",
        "optimizer = torch.optim.Adam(model.parameters(), lr=0.01)"
      ],
      "metadata": {
        "id": "JRM5lyPiEwrm"
      },
      "execution_count": 12,
      "outputs": []
    },
    {
      "cell_type": "markdown",
      "source": [
        "## Define Decoder"
      ],
      "metadata": {
        "id": "6kMZ7UWxVqwP"
      }
    },
    {
      "cell_type": "code",
      "source": [
        "def decode(z, edge_index):\n",
        "    value = (z[edge_index[0]] * z[edge_index[1]]).sum(dim=1)\n",
        "    return value"
      ],
      "metadata": {
        "id": "5EWgGpneVqB9"
      },
      "execution_count": 13,
      "outputs": []
    },
    {
      "cell_type": "markdown",
      "source": [
        "## Define Training"
      ],
      "metadata": {
        "id": "1U-vvcGiLIJt"
      }
    },
    {
      "cell_type": "code",
      "source": [
        "def train(model, data, optimizer):\n",
        "    model.train()\n",
        "    optimizer.zero_grad()\n",
        "\n",
        "    # Compute node embeddings using (only) the training graph.\n",
        "    z = model(data.x, data.pos_edge_label_index)\n",
        "\n",
        "    # Positive edge predictions.\n",
        "    pos_pred = torch.sigmoid(decode(z, data.pos_edge_label_index))\n",
        "    # Negative edge predictions.\n",
        "    neg_pred = torch.sigmoid(decode(z, data.neg_edge_label_index))\n",
        "\n",
        "    # Use binary cross-entropy loss.\n",
        "    loss = F.binary_cross_entropy(pos_pred, torch.ones_like(pos_pred)) + \\\n",
        "           F.binary_cross_entropy(neg_pred, torch.zeros_like(neg_pred))\n",
        "    loss.backward()\n",
        "    optimizer.step()\n",
        "    return loss.item()"
      ],
      "metadata": {
        "id": "0Yxp66qpLJiG"
      },
      "execution_count": 14,
      "outputs": []
    },
    {
      "cell_type": "markdown",
      "source": [
        "## Define Testing"
      ],
      "metadata": {
        "id": "TSiMJKYZaymf"
      }
    },
    {
      "cell_type": "code",
      "source": [
        "def test(model, data, return_predictions=False):\n",
        "    model.eval()\n",
        "    with torch.no_grad():\n",
        "        z = model(data.x, data.edge_index)  # Note: use full graph for message passing.\n",
        "\n",
        "    pos_pred = decode(z, data.pos_edge_label_index)\n",
        "    neg_pred = decode(z, data.neg_edge_label_index)\n",
        "\n",
        "\n",
        "    if(return_predictions):\n",
        "      predictions = torch.cat([pos_pred, neg_pred]).cpu().numpy()\n",
        "      labels = torch.cat([torch.ones(pos_pred.size(0)), torch.zeros(neg_pred.size(0))]).cpu().numpy()\n",
        "      return predictions, labels\n",
        "    else:\n",
        "      pos_score = torch.sigmoid(pos_pred)\n",
        "      neg_score = torch.sigmoid(neg_pred)\n",
        "      return ((pos_score > 0.5).sum() + (neg_score < 0.5).sum()) / (pos_score.size(0) + neg_score.size(0))"
      ],
      "metadata": {
        "id": "f2u3qiPvayzg"
      },
      "execution_count": 15,
      "outputs": []
    },
    {
      "cell_type": "code",
      "source": [
        "from sklearn.metrics import f1_score\n",
        "from sklearn.metrics import roc_auc_score, accuracy_score, recall_score, precision_score, f1_score\n",
        "\n",
        "def evaluation(predictions, labels):\n",
        "  return {\n",
        "    \"Accuracy\": accuracy_score(predictions, labels),\n",
        "    \"Precision\": precision_score(predictions, labels),\n",
        "    \"Recall\": recall_score(predictions, labels),\n",
        "    \"F1\": f1_score(labels, predictions),\n",
        "    \"AUC\": roc_auc_score(labels, predictions)\n",
        "  }"
      ],
      "metadata": {
        "id": "r1hEwL2dU0Tb"
      },
      "execution_count": 16,
      "outputs": []
    },
    {
      "cell_type": "markdown",
      "source": [
        "## Run train and test"
      ],
      "metadata": {
        "id": "EUK7GSMYO0-S"
      }
    },
    {
      "cell_type": "code",
      "source": [
        "for epoch in range(1, 101):  # Train for 100 epochs\n",
        "    loss = train(model, train_data, optimizer)\n",
        "    if epoch%10==0:\n",
        "      val_acc = test(model, val_data)\n",
        "      print(f'Epoch: {epoch}, Loss: {loss:.4f}, Val Acc: {val_acc:.4f}')"
      ],
      "metadata": {
        "colab": {
          "base_uri": "https://localhost:8080/"
        },
        "id": "ebNtgR6iYCkL",
        "outputId": "35e488a9-44f0-4780-89bb-ba1148f20a0b"
      },
      "execution_count": 17,
      "outputs": [
        {
          "output_type": "stream",
          "name": "stdout",
          "text": [
            "Epoch: 10, Loss: 1.3258, Val Acc: 0.5000\n",
            "Epoch: 20, Loss: 1.2267, Val Acc: 0.6050\n",
            "Epoch: 30, Loss: 1.1217, Val Acc: 0.5425\n",
            "Epoch: 40, Loss: 1.0816, Val Acc: 0.3521\n",
            "Epoch: 50, Loss: 1.0379, Val Acc: 0.4397\n",
            "Epoch: 60, Loss: 1.0314, Val Acc: 0.3766\n",
            "Epoch: 70, Loss: 1.0306, Val Acc: 0.3934\n",
            "Epoch: 80, Loss: 1.0299, Val Acc: 0.3822\n",
            "Epoch: 90, Loss: 1.0291, Val Acc: 0.3975\n",
            "Epoch: 100, Loss: 1.0603, Val Acc: 0.4423\n"
          ]
        }
      ]
    },
    {
      "cell_type": "code",
      "source": [
        "acc = test(model, test_data)\n",
        "print(f'Accuracy:\\n {acc:.3f}')"
      ],
      "metadata": {
        "id": "pmWnV8CBWMfX",
        "colab": {
          "base_uri": "https://localhost:8080/"
        },
        "outputId": "8a877113-3688-44ab-ac2f-5ef7e87544bf"
      },
      "execution_count": 18,
      "outputs": [
        {
          "output_type": "stream",
          "name": "stdout",
          "text": [
            "Accuracy:\n",
            " 0.447\n"
          ]
        }
      ]
    }
  ]
}